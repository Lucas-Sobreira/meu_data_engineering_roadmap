{
 "cells": [
  {
   "cell_type": "markdown",
   "metadata": {},
   "source": [
    "### Definindo função de Soma"
   ]
  },
  {
   "cell_type": "code",
   "execution_count": 4,
   "metadata": {},
   "outputs": [],
   "source": [
    "import numbers"
   ]
  },
  {
   "cell_type": "code",
   "execution_count": 9,
   "metadata": {},
   "outputs": [],
   "source": [
    "def soma(n1: float, n2: float) -> float:\n",
    "    \"\"\"\n",
    "    Uma função que retorna a soma de dois valores\n",
    "    \"\"\"\n",
    "    if isinstance(n1, numbers.Number) & isinstance(n2, numbers.Number):\n",
    "        return float(n1) + float(n2)\n",
    "    else: \n",
    "        print('Você digitou um dos dois valores de maneira errada! Digite apenas números')\n",
    "\n",
    "# soma(1, 2)\n",
    "# soma('shu', 2)"
   ]
  },
  {
   "cell_type": "markdown",
   "metadata": {},
   "source": [
    "## Exercícios"
   ]
  },
  {
   "cell_type": "markdown",
   "metadata": {},
   "source": [
    "### 1. Calcular Média de Valores em uma lista"
   ]
  },
  {
   "cell_type": "code",
   "execution_count": 13,
   "metadata": {},
   "outputs": [
    {
     "data": {
      "text/plain": [
       "2.5"
      ]
     },
     "execution_count": 13,
     "metadata": {},
     "output_type": "execute_result"
    }
   ],
   "source": [
    "from typing import List\n",
    "\n",
    "def calcula_media_valores(valores: List[float]) -> float: \n",
    "    return sum(valores)/len(valores)\n",
    "\n",
    "valores = [1, 2, 3, 4]\n",
    "calcula_media_valores(valores)"
   ]
  },
  {
   "cell_type": "markdown",
   "metadata": {},
   "source": [
    "### 2. Filtrar Dados Acima de um Limite"
   ]
  },
  {
   "cell_type": "code",
   "execution_count": 15,
   "metadata": {},
   "outputs": [
    {
     "data": {
      "text/plain": [
       "[]"
      ]
     },
     "execution_count": 15,
     "metadata": {},
     "output_type": "execute_result"
    }
   ],
   "source": [
    "def filtrar_acima_de(valores: List[float], limite: float) -> List[float]:\n",
    "    resultado = []\n",
    "    for n in valores: \n",
    "        if n > limite: \n",
    "            resultado.append(n)\n",
    "    return resultado\n",
    "\n",
    "# filtrar_acima_de([1, 2, 3, 4], 2)\n",
    "filtrar_acima_de([1, 2, 3, 4], 5)"
   ]
  },
  {
   "cell_type": "markdown",
   "metadata": {},
   "source": [
    "### 3. Contar Valores Únicos em uma lista"
   ]
  },
  {
   "cell_type": "code",
   "execution_count": 16,
   "metadata": {},
   "outputs": [
    {
     "data": {
      "text/plain": [
       "[1, 2, 3, 4, 5, 6]"
      ]
     },
     "execution_count": 16,
     "metadata": {},
     "output_type": "execute_result"
    }
   ],
   "source": [
    "def valores_unicos(valores: List[float]) -> List[float]: \n",
    "    return list(set(valores))\n",
    "\n",
    "valores_unicos([1, 1, 2, 3, 4, 5, 6, 6])"
   ]
  },
  {
   "cell_type": "markdown",
   "metadata": {},
   "source": [
    "### 4. Converter Celsius para Fahrenheit em uma lista"
   ]
  },
  {
   "cell_type": "code",
   "execution_count": 20,
   "metadata": {},
   "outputs": [
    {
     "data": {
      "text/plain": [
       "[32.0, 50.0, 104.0, 131.54]"
      ]
     },
     "execution_count": 20,
     "metadata": {},
     "output_type": "execute_result"
    }
   ],
   "source": [
    "# def converte_celcius_fahrenheit(valores: List[float]) -> List[float]:\n",
    "#     list_fahrenheit: list = []\n",
    "#     for celcius in valores: \n",
    "#         fahrenheit: float = (celcius * (9/5)) + 32\n",
    "#         list_fahrenheit.append(fahrenheit)\n",
    "#     return list_fahrenheit\n",
    "\n",
    "def converte_celcius_fahrenheit(temperature_celcius: List[float]) -> List[float]:\n",
    "    return [((9/5) * temp) + 32 for temp in temperature_celcius]\n",
    "\n",
    "converte_celcius_fahrenheit([0, 10, 40, 55.3])"
   ]
  },
  {
   "cell_type": "markdown",
   "metadata": {},
   "source": [
    "### 5. Calcular Desvio Padrão de uma lista"
   ]
  },
  {
   "cell_type": "code",
   "execution_count": 27,
   "metadata": {},
   "outputs": [
    {
     "data": {
      "text/plain": [
       "3.847076812334269"
      ]
     },
     "execution_count": 27,
     "metadata": {},
     "output_type": "execute_result"
    }
   ],
   "source": [
    "def desvio_padrao_lista(valores: List[float]) -> float: \n",
    "    media_valores: float = sum(valores)/len(valores)\n",
    "    soma_desvio = 0\n",
    "\n",
    "    for valor in valores: \n",
    "        soma_desvio += (valor - media_valores) ** 2\n",
    "\n",
    "    return (soma_desvio / len(valores)) ** (1/2)\n",
    "\n",
    "valores = [1, 5, 7, 10, 12]\n",
    "desvio_padrao_lista(valores)"
   ]
  },
  {
   "cell_type": "code",
   "execution_count": 25,
   "metadata": {},
   "outputs": [
    {
     "data": {
      "text/plain": [
       "3.847076812334269"
      ]
     },
     "execution_count": 25,
     "metadata": {},
     "output_type": "execute_result"
    }
   ],
   "source": [
    "def desvio_padrao_lista(valores: List[float]) -> float: \n",
    "    media: float = sum(valores)/len(valores)\n",
    "    desvio_padrao: float = (sum((valor - media) ** 2 for valor in valores) / len(valores)) ** 0.5\n",
    "\n",
    "    return desvio_padrao\n",
    "\n",
    "valores = [1, 5, 7, 10, 12]\n",
    "desvio_padrao_lista(valores)"
   ]
  },
  {
   "cell_type": "markdown",
   "metadata": {},
   "source": [
    "### 6. Encontrar Valores Ausentes em uma Sequência"
   ]
  },
  {
   "cell_type": "code",
   "execution_count": 31,
   "metadata": {},
   "outputs": [
    {
     "data": {
      "text/plain": [
       "[4, 6]"
      ]
     },
     "execution_count": 31,
     "metadata": {},
     "output_type": "execute_result"
    }
   ],
   "source": [
    "def encontrar_valores_ausentes(sequencia: List[float]) -> List[float]:\n",
    "    lista_completa = range(min(sequencia), max(sequencia) + 1)\n",
    "    return list(set(lista_completa) - set(sequencia))\n",
    "\n",
    "sequencia = [1, 2, 3, 5, 7]\n",
    "encontrar_valores_ausentes(sequencia)"
   ]
  },
  {
   "cell_type": "code",
   "execution_count": 30,
   "metadata": {},
   "outputs": [
    {
     "data": {
      "text/plain": [
       "[4, 6]"
      ]
     },
     "execution_count": 30,
     "metadata": {},
     "output_type": "execute_result"
    }
   ],
   "source": [
    "def encontrar_valores_ausentes(sequencia: List[int]) -> List[int]:\n",
    "    completo = set(range(min(sequencia), max(sequencia) + 1))\n",
    "    return list(completo - set(sequencia))\n",
    "\n",
    "sequencia = [1, 2, 3, 5, 7]\n",
    "encontrar_valores_ausentes(sequencia)"
   ]
  }
 ],
 "metadata": {
  "kernelspec": {
   "display_name": "Python 3",
   "language": "python",
   "name": "python3"
  },
  "language_info": {
   "codemirror_mode": {
    "name": "ipython",
    "version": 3
   },
   "file_extension": ".py",
   "mimetype": "text/x-python",
   "name": "python",
   "nbconvert_exporter": "python",
   "pygments_lexer": "ipython3",
   "version": "3.12.1"
  }
 },
 "nbformat": 4,
 "nbformat_minor": 2
}
